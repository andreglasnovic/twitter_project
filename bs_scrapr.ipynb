{
 "cells": [
  {
   "cell_type": "code",
   "execution_count": 1,
   "metadata": {},
   "outputs": [],
   "source": [
    "import pandas as pd"
   ]
  },
  {
   "cell_type": "code",
   "execution_count": 2,
   "metadata": {},
   "outputs": [],
   "source": [
    "file1 = \"UkraineCombinedTweetsDeduped_FEB27.csv.gzip\"\n",
    "file2 = \"UkraineCombinedTweetsDeduped_FEB28_part2.csv.gzip\"\n",
    "file3 = \"UkraineCombinedTweetsDeduped_MAR01.csv.gzip\"\n",
    "file4 = \"UkraineCombinedTweetsDeduped_MAR02.csv.gzip\"\n",
    "file5 = \"UkraineCombinedTweetsDeduped_MAR03.csv.gzip\"\n",
    "file6 = \"UkraineCombinedTweetsDeduped_MAR04.csv.gzip\"\n",
    "file7 = \"UkraineCombinedTweetsDeduped_MAR05.csv.gzip\"\n"
   ]
  },
  {
   "cell_type": "code",
   "execution_count": 3,
   "metadata": {},
   "outputs": [
    {
     "name": "stderr",
     "output_type": "stream",
     "text": [
      "C:\\Users\\aglas\\AppData\\Local\\Temp\\ipykernel_20020\\2672232526.py:6: DtypeWarning: Columns (15) have mixed types. Specify dtype option on import or set low_memory=False.\n",
      "  temp_table6 = pd.read_csv(file6, compression='gzip')\n",
      "C:\\Users\\aglas\\AppData\\Local\\Temp\\ipykernel_20020\\2672232526.py:7: DtypeWarning: Columns (15) have mixed types. Specify dtype option on import or set low_memory=False.\n",
      "  temp_table7 = pd.read_csv(file7, compression='gzip')\n"
     ]
    }
   ],
   "source": [
    "temp_table1 = pd.read_csv(file1, compression='gzip')\n",
    "temp_table2 = pd.read_csv(file2, compression='gzip')\n",
    "temp_table3 = pd.read_csv(file3, compression='gzip')\n",
    "temp_table4 = pd.read_csv(file4, compression='gzip')\n",
    "temp_table5 = pd.read_csv(file5, compression='gzip')\n",
    "temp_table6 = pd.read_csv(file6, compression='gzip')\n",
    "temp_table7 = pd.read_csv(file7, compression='gzip')"
   ]
  },
  {
   "cell_type": "code",
   "execution_count": 4,
   "metadata": {},
   "outputs": [
    {
     "name": "stderr",
     "output_type": "stream",
     "text": [
      "C:\\Users\\aglas\\AppData\\Local\\Temp\\ipykernel_20020\\2091050160.py:1: FutureWarning: The frame.append method is deprecated and will be removed from pandas in a future version. Use pandas.concat instead.\n",
      "  df = temp_table1.append([temp_table2,temp_table3,temp_table4,temp_table5,temp_table6,temp_table7])\n"
     ]
    }
   ],
   "source": [
    "df = temp_table1.append([temp_table2,temp_table3,temp_table4,temp_table5,temp_table6,temp_table7])"
   ]
  },
  {
   "cell_type": "code",
   "execution_count": 5,
   "metadata": {},
   "outputs": [],
   "source": [
    "df = df[df.language == 'en']\n",
    "df = df[['location','text','hashtags','tweetcreatedts']]\n",
    "df = df.loc[df.hashtags.str.contains('Putin') | df.hashtags.str.contains('Zelensky')]"
   ]
  },
  {
   "cell_type": "code",
   "execution_count": 11,
   "metadata": {},
   "outputs": [
    {
     "name": "stdout",
     "output_type": "stream",
     "text": [
      "27        #Putin will not stop at #Ukraine.\\n\\nFuck Puti...\n",
      "36        Kharkov right now! 🇺🇦\\n\\n#Ukraine #UkraineRuss...\n",
      "74        Is this Putin’s Napoleon moment? Let’s pray so...\n",
      "101       Live: #Ukraine vows to fight on as #Kyiv readi...\n",
      "120       I'm perplexed that people keep throwing out th...\n",
      "                                ...                        \n",
      "546738    @Diop_IFC @techreview #Ukraine needs weapons a...\n",
      "546754    @ChrisVanHollen #Ukraine needs weapons and hum...\n",
      "546768    @RoyalFamily #Ukraine needs weapons and humani...\n",
      "546774    #Putin will not stop with #Ukraine he does not...\n",
      "546775    @sven_giegold @LiberecoPHR @spirit_andsoul #Uk...\n",
      "Name: text, Length: 350195, dtype: object\n"
     ]
    }
   ],
   "source": [
    "print(df['text'])"
   ]
  },
  {
   "cell_type": "code",
   "execution_count": 45,
   "metadata": {},
   "outputs": [],
   "source": [
    "import warnings\n",
    "warnings.filterwarnings(\"ignore\")\n",
    "\n",
    "import re\n",
    "\n",
    "import simplemma\n",
    "\n",
    "from spacy.lang.en import English\n",
    "\n",
    "langdata = dict()\n",
    "langdata['en'] = simplemma.load_data('en')   \n",
    "\n",
    "nlp = English()\n",
    "lang = langdata.get('en')\n",
    "\n",
    "def no_html(raw_text):\n",
    "    \n",
    "    no_html = raw_text.lower().strip()\n",
    "\n",
    "    # remove urls\n",
    "    no_html = re.compile('http[s]?://(?:[a-zA-Z]|[0-9]|[$-_@.&+]|[!*\\(\\),]|(?:%[0-9a-fA-F][0-9a-fA-F]))+').sub(r'', no_html)\n",
    "    no_html = re.sub('www.*.(com|hr)', '', no_html)\n",
    "    \n",
    "    # remove emoji\n",
    "    no_html = re.compile(\"[\"\n",
    "                           u\"\\U0001F600-\\U0001F64F\"  # emoticons\n",
    "                           u\"\\U0001F300-\\U0001F5FF\"  # symbols & pictographs\n",
    "                           u\"\\U0001F680-\\U0001F6FF\"  # transport & map symbols\n",
    "                           u\"\\U0001F1E0-\\U0001F1FF\"  # flags (iOS)\n",
    "                           u\"\\U00002702-\\U000027B0\"\n",
    "                           u\"\\U000024C2-\\U0001F251\"\n",
    "                           \"]+\", flags=re.UNICODE).sub(r'', no_html)\n",
    "\n",
    "    # remove quotations, re: fw: and aw:\n",
    "    no_html = re.sub('\"', ' ', no_html)\n",
    "    no_html = re.sub(\"'\", ' ', no_html)\n",
    "   \n",
    "    no_html = re.sub('re:|fw:|aw:', ' ', no_html)\n",
    "\n",
    "\n",
    "\n",
    "    no_html = re.sub(\"from:.*\", '', no_html)\n",
    "\n",
    "\n",
    "    # remove special symbols, incorrect words and numbers\n",
    "    no_html = re.compile('[/(){}\\[\\]<>\\|@,;_–.?!-*]').sub(' ', no_html)\n",
    "    no_html = re.compile('[\\d+]').sub(' ', no_html)\n",
    "    no_html = re.sub(\":\", ' ', no_html)\n",
    "    no_html = re.sub(\"-\", ' ', no_html)\n",
    "    no_html = re.sub(r'\\s+',' ', no_html)\n",
    "    no_html = no_html.strip()\n",
    "    \n",
    "    \n",
    "    return no_html\n",
    "\n",
    "\n",
    "\n",
    "def process_text_with_original(no_html):\n",
    "    if no_html is None:\n",
    "        return None\n",
    "\n",
    "    # Second version (returns a string)\n",
    "    cleaned_doc = [simplemma.lemmatize(token.text, lang).lower() for token in nlp(no_html) if len(token.text) > 1 and not token.is_stop and not token.is_punct and token.is_alpha]\n",
    "    cleaned_doc = ' '.join(cleaned_doc)\n",
    "\n",
    "    return cleaned_doc"
   ]
  },
  {
   "cell_type": "code",
   "execution_count": 46,
   "metadata": {},
   "outputs": [],
   "source": [
    "df['text'] = df['text'].apply(str)"
   ]
  },
  {
   "cell_type": "code",
   "execution_count": 47,
   "metadata": {},
   "outputs": [],
   "source": [
    "df['text'] = df['text'].map(no_html)"
   ]
  },
  {
   "cell_type": "code",
   "execution_count": 59,
   "metadata": {},
   "outputs": [
    {
     "name": "stderr",
     "output_type": "stream",
     "text": [
      "[nltk_data] Downloading package stopwords to\n",
      "[nltk_data]     C:\\Users\\aglas\\AppData\\Roaming\\nltk_data...\n",
      "[nltk_data]   Unzipping corpora\\stopwords.zip.\n"
     ]
    }
   ],
   "source": [
    "from nltk.corpus import stopwords\n",
    "import nltk\n",
    "nltk.download('stopwords')\n",
    "stop = stopwords.words('english')"
   ]
  },
  {
   "cell_type": "code",
   "execution_count": 60,
   "metadata": {},
   "outputs": [],
   "source": [
    "df['text'] = df['text'].apply(lambda x: ' '.join([word for word in x.split() if word not in (stop)]))"
   ]
  },
  {
   "cell_type": "code",
   "execution_count": 62,
   "metadata": {},
   "outputs": [
    {
     "data": {
      "text/html": [
       "<div>\n",
       "<style scoped>\n",
       "    .dataframe tbody tr th:only-of-type {\n",
       "        vertical-align: middle;\n",
       "    }\n",
       "\n",
       "    .dataframe tbody tr th {\n",
       "        vertical-align: top;\n",
       "    }\n",
       "\n",
       "    .dataframe thead th {\n",
       "        text-align: right;\n",
       "    }\n",
       "</style>\n",
       "<table border=\"1\" class=\"dataframe\">\n",
       "  <thead>\n",
       "    <tr style=\"text-align: right;\">\n",
       "      <th></th>\n",
       "      <th>text</th>\n",
       "    </tr>\n",
       "  </thead>\n",
       "  <tbody>\n",
       "    <tr>\n",
       "      <th>27</th>\n",
       "      <td>putin stop ukraine fuck putin fckputin</td>\n",
       "    </tr>\n",
       "    <tr>\n",
       "      <th>36</th>\n",
       "      <td>kharkov right ukraine ukrainerussiawar ukrinia...</td>\n",
       "    </tr>\n",
       "    <tr>\n",
       "      <th>74</th>\n",
       "      <td>putin’s napoleon moment let’s pray putin ukrai...</td>\n",
       "    </tr>\n",
       "    <tr>\n",
       "      <th>101</th>\n",
       "      <td>live ukraine vows fight kyiv readies russian m...</td>\n",
       "    </tr>\n",
       "    <tr>\n",
       "      <th>120</th>\n",
       "      <td>perplexed people keep throwing zelenskyy used ...</td>\n",
       "    </tr>\n",
       "    <tr>\n",
       "      <th>...</th>\n",
       "      <td>...</td>\n",
       "    </tr>\n",
       "    <tr>\n",
       "      <th>546738</th>\n",
       "      <td>diop ifc techreview ukraine needs weapons huma...</td>\n",
       "    </tr>\n",
       "    <tr>\n",
       "      <th>546754</th>\n",
       "      <td>chrisvanhollen ukraine needs weapons humanitar...</td>\n",
       "    </tr>\n",
       "    <tr>\n",
       "      <th>546768</th>\n",
       "      <td>royalfamily ukraine needs weapons humanitarian...</td>\n",
       "    </tr>\n",
       "    <tr>\n",
       "      <th>546774</th>\n",
       "      <td>putin stop ukraine care wwiii nato</td>\n",
       "    </tr>\n",
       "    <tr>\n",
       "      <th>546775</th>\n",
       "      <td>sven giegold liberecophr spirit andsoul ukrain...</td>\n",
       "    </tr>\n",
       "  </tbody>\n",
       "</table>\n",
       "<p>350195 rows × 1 columns</p>\n",
       "</div>"
      ],
      "text/plain": [
       "                                                     text\n",
       "27                 putin stop ukraine fuck putin fckputin\n",
       "36      kharkov right ukraine ukrainerussiawar ukrinia...\n",
       "74      putin’s napoleon moment let’s pray putin ukrai...\n",
       "101     live ukraine vows fight kyiv readies russian m...\n",
       "120     perplexed people keep throwing zelenskyy used ...\n",
       "...                                                   ...\n",
       "546738  diop ifc techreview ukraine needs weapons huma...\n",
       "546754  chrisvanhollen ukraine needs weapons humanitar...\n",
       "546768  royalfamily ukraine needs weapons humanitarian...\n",
       "546774                 putin stop ukraine care wwiii nato\n",
       "546775  sven giegold liberecophr spirit andsoul ukrain...\n",
       "\n",
       "[350195 rows x 1 columns]"
      ]
     },
     "execution_count": 62,
     "metadata": {},
     "output_type": "execute_result"
    }
   ],
   "source": [
    "df[['text']]"
   ]
  },
  {
   "cell_type": "code",
   "execution_count": null,
   "metadata": {},
   "outputs": [],
   "source": []
  },
  {
   "cell_type": "code",
   "execution_count": null,
   "metadata": {},
   "outputs": [],
   "source": []
  }
 ],
 "metadata": {
  "interpreter": {
   "hash": "d0b7b42645d6629e3987d508f5437795b103e932c13832882715ec2c94600af7"
  },
  "kernelspec": {
   "display_name": "Python 3.8.10 ('Intro_to_Data_Science-O7wgcke8')",
   "language": "python",
   "name": "python3"
  },
  "language_info": {
   "codemirror_mode": {
    "name": "ipython",
    "version": 3
   },
   "file_extension": ".py",
   "mimetype": "text/x-python",
   "name": "python",
   "nbconvert_exporter": "python",
   "pygments_lexer": "ipython3",
   "version": "3.8.10"
  },
  "orig_nbformat": 4
 },
 "nbformat": 4,
 "nbformat_minor": 2
}
